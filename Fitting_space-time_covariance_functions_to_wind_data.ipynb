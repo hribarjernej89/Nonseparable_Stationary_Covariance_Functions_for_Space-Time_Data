{
 "cells": [
  {
   "cell_type": "markdown",
   "metadata": {},
   "source": [
    "# Irish Wind Data\n",
    "\n",
    "In this Notebook, we follow Tilmanm  Gneiting experiment as presented in his paper: [Nonseparable, stationary Covariance Functions for Space-Time Data](http://www.jstor.org/stable/3085674).\n",
    "\n"
   ]
  },
  {
   "cell_type": "code",
   "execution_count": 1,
   "metadata": {
    "collapsed": true
   },
   "outputs": [],
   "source": [
    "#Import statements\n",
    "%matplotlib inline \n",
    "import matplotlib.pyplot as plt\n",
    "import pandas as pd\n",
    "import numpy as np\n",
    "from scipy.optimize import curve_fit\n",
    "\n",
    "pd.options.display.max_rows = 12 #Setting the maximal number of displayed rows for a dataframe \n",
    "\n",
    "\n",
    "# Graphing helper function\n",
    "def setup_graph(title='', x_label='', y_label='', fig_size=None):\n",
    "    fig = plt.figure()\n",
    "    if fig_size != None:\n",
    "        fig.set_size_inches(fig_size[0], fig_size[1])\n",
    "    ax = fig.add_subplot(111)\n",
    "    ax.set_title(title)\n",
    "    ax.set_xlabel(x_label)\n",
    "    ax.set_ylabel(y_label)"
   ]
  },
  {
   "cell_type": "code",
   "execution_count": 2,
   "metadata": {},
   "outputs": [
    {
     "data": {
      "text/html": [
       "<div>\n",
       "<style>\n",
       "    .dataframe thead tr:only-child th {\n",
       "        text-align: right;\n",
       "    }\n",
       "\n",
       "    .dataframe thead th {\n",
       "        text-align: left;\n",
       "    }\n",
       "\n",
       "    .dataframe tbody tr th {\n",
       "        vertical-align: top;\n",
       "    }\n",
       "</style>\n",
       "<table border=\"1\" class=\"dataframe\">\n",
       "  <thead>\n",
       "    <tr style=\"text-align: right;\">\n",
       "      <th></th>\n",
       "      <th>Year</th>\n",
       "      <th>Month</th>\n",
       "      <th>Day</th>\n",
       "      <th>RPT</th>\n",
       "      <th>VAL</th>\n",
       "      <th>ROS</th>\n",
       "      <th>KIL</th>\n",
       "      <th>SHA</th>\n",
       "      <th>BIR</th>\n",
       "      <th>DUB</th>\n",
       "      <th>CLA</th>\n",
       "      <th>MUL</th>\n",
       "      <th>CLO</th>\n",
       "      <th>BEL</th>\n",
       "      <th>MAL</th>\n",
       "    </tr>\n",
       "  </thead>\n",
       "  <tbody>\n",
       "    <tr>\n",
       "      <th>0</th>\n",
       "      <td>1961</td>\n",
       "      <td>1</td>\n",
       "      <td>1</td>\n",
       "      <td>15.04</td>\n",
       "      <td>14.96</td>\n",
       "      <td>13.17</td>\n",
       "      <td>9.29</td>\n",
       "      <td>13.96</td>\n",
       "      <td>9.87</td>\n",
       "      <td>13.67</td>\n",
       "      <td>10.25</td>\n",
       "      <td>10.83</td>\n",
       "      <td>12.58</td>\n",
       "      <td>18.50</td>\n",
       "      <td>15.04</td>\n",
       "    </tr>\n",
       "    <tr>\n",
       "      <th>1</th>\n",
       "      <td>1961</td>\n",
       "      <td>1</td>\n",
       "      <td>2</td>\n",
       "      <td>14.71</td>\n",
       "      <td>16.88</td>\n",
       "      <td>10.83</td>\n",
       "      <td>6.50</td>\n",
       "      <td>12.62</td>\n",
       "      <td>7.67</td>\n",
       "      <td>11.50</td>\n",
       "      <td>10.04</td>\n",
       "      <td>9.79</td>\n",
       "      <td>9.67</td>\n",
       "      <td>17.54</td>\n",
       "      <td>13.83</td>\n",
       "    </tr>\n",
       "    <tr>\n",
       "      <th>2</th>\n",
       "      <td>1961</td>\n",
       "      <td>1</td>\n",
       "      <td>3</td>\n",
       "      <td>18.50</td>\n",
       "      <td>16.88</td>\n",
       "      <td>12.33</td>\n",
       "      <td>10.13</td>\n",
       "      <td>11.17</td>\n",
       "      <td>6.17</td>\n",
       "      <td>11.25</td>\n",
       "      <td>8.04</td>\n",
       "      <td>8.50</td>\n",
       "      <td>7.67</td>\n",
       "      <td>12.75</td>\n",
       "      <td>12.71</td>\n",
       "    </tr>\n",
       "    <tr>\n",
       "      <th>3</th>\n",
       "      <td>1961</td>\n",
       "      <td>1</td>\n",
       "      <td>4</td>\n",
       "      <td>10.58</td>\n",
       "      <td>6.63</td>\n",
       "      <td>11.75</td>\n",
       "      <td>4.58</td>\n",
       "      <td>4.54</td>\n",
       "      <td>2.88</td>\n",
       "      <td>8.63</td>\n",
       "      <td>1.79</td>\n",
       "      <td>5.83</td>\n",
       "      <td>5.88</td>\n",
       "      <td>5.46</td>\n",
       "      <td>10.88</td>\n",
       "    </tr>\n",
       "    <tr>\n",
       "      <th>4</th>\n",
       "      <td>1961</td>\n",
       "      <td>1</td>\n",
       "      <td>5</td>\n",
       "      <td>13.33</td>\n",
       "      <td>13.25</td>\n",
       "      <td>11.42</td>\n",
       "      <td>6.17</td>\n",
       "      <td>10.71</td>\n",
       "      <td>8.21</td>\n",
       "      <td>11.92</td>\n",
       "      <td>6.54</td>\n",
       "      <td>10.92</td>\n",
       "      <td>10.34</td>\n",
       "      <td>12.92</td>\n",
       "      <td>11.83</td>\n",
       "    </tr>\n",
       "    <tr>\n",
       "      <th>5</th>\n",
       "      <td>1961</td>\n",
       "      <td>1</td>\n",
       "      <td>6</td>\n",
       "      <td>13.21</td>\n",
       "      <td>8.12</td>\n",
       "      <td>9.96</td>\n",
       "      <td>6.67</td>\n",
       "      <td>5.37</td>\n",
       "      <td>4.50</td>\n",
       "      <td>10.67</td>\n",
       "      <td>4.42</td>\n",
       "      <td>7.17</td>\n",
       "      <td>7.50</td>\n",
       "      <td>8.12</td>\n",
       "      <td>13.17</td>\n",
       "    </tr>\n",
       "    <tr>\n",
       "      <th>...</th>\n",
       "      <td>...</td>\n",
       "      <td>...</td>\n",
       "      <td>...</td>\n",
       "      <td>...</td>\n",
       "      <td>...</td>\n",
       "      <td>...</td>\n",
       "      <td>...</td>\n",
       "      <td>...</td>\n",
       "      <td>...</td>\n",
       "      <td>...</td>\n",
       "      <td>...</td>\n",
       "      <td>...</td>\n",
       "      <td>...</td>\n",
       "      <td>...</td>\n",
       "      <td>...</td>\n",
       "    </tr>\n",
       "    <tr>\n",
       "      <th>6568</th>\n",
       "      <td>1978</td>\n",
       "      <td>12</td>\n",
       "      <td>26</td>\n",
       "      <td>13.83</td>\n",
       "      <td>11.87</td>\n",
       "      <td>10.34</td>\n",
       "      <td>2.37</td>\n",
       "      <td>6.96</td>\n",
       "      <td>4.29</td>\n",
       "      <td>1.96</td>\n",
       "      <td>3.79</td>\n",
       "      <td>3.04</td>\n",
       "      <td>3.08</td>\n",
       "      <td>4.79</td>\n",
       "      <td>11.96</td>\n",
       "    </tr>\n",
       "    <tr>\n",
       "      <th>6569</th>\n",
       "      <td>1978</td>\n",
       "      <td>12</td>\n",
       "      <td>27</td>\n",
       "      <td>17.58</td>\n",
       "      <td>16.96</td>\n",
       "      <td>17.62</td>\n",
       "      <td>8.08</td>\n",
       "      <td>13.21</td>\n",
       "      <td>11.67</td>\n",
       "      <td>14.46</td>\n",
       "      <td>15.59</td>\n",
       "      <td>14.04</td>\n",
       "      <td>14.00</td>\n",
       "      <td>17.21</td>\n",
       "      <td>40.08</td>\n",
       "    </tr>\n",
       "    <tr>\n",
       "      <th>6570</th>\n",
       "      <td>1978</td>\n",
       "      <td>12</td>\n",
       "      <td>28</td>\n",
       "      <td>13.21</td>\n",
       "      <td>5.46</td>\n",
       "      <td>13.46</td>\n",
       "      <td>5.00</td>\n",
       "      <td>8.12</td>\n",
       "      <td>9.42</td>\n",
       "      <td>14.33</td>\n",
       "      <td>16.25</td>\n",
       "      <td>15.25</td>\n",
       "      <td>18.05</td>\n",
       "      <td>21.79</td>\n",
       "      <td>41.46</td>\n",
       "    </tr>\n",
       "    <tr>\n",
       "      <th>6571</th>\n",
       "      <td>1978</td>\n",
       "      <td>12</td>\n",
       "      <td>29</td>\n",
       "      <td>14.00</td>\n",
       "      <td>10.29</td>\n",
       "      <td>14.42</td>\n",
       "      <td>8.71</td>\n",
       "      <td>9.71</td>\n",
       "      <td>10.54</td>\n",
       "      <td>19.17</td>\n",
       "      <td>12.46</td>\n",
       "      <td>14.50</td>\n",
       "      <td>16.42</td>\n",
       "      <td>18.88</td>\n",
       "      <td>29.58</td>\n",
       "    </tr>\n",
       "    <tr>\n",
       "      <th>6572</th>\n",
       "      <td>1978</td>\n",
       "      <td>12</td>\n",
       "      <td>30</td>\n",
       "      <td>18.50</td>\n",
       "      <td>14.04</td>\n",
       "      <td>21.29</td>\n",
       "      <td>9.13</td>\n",
       "      <td>12.75</td>\n",
       "      <td>9.71</td>\n",
       "      <td>18.08</td>\n",
       "      <td>12.87</td>\n",
       "      <td>12.46</td>\n",
       "      <td>12.12</td>\n",
       "      <td>14.67</td>\n",
       "      <td>28.79</td>\n",
       "    </tr>\n",
       "    <tr>\n",
       "      <th>6573</th>\n",
       "      <td>1978</td>\n",
       "      <td>12</td>\n",
       "      <td>31</td>\n",
       "      <td>20.33</td>\n",
       "      <td>17.41</td>\n",
       "      <td>27.29</td>\n",
       "      <td>9.59</td>\n",
       "      <td>12.08</td>\n",
       "      <td>10.13</td>\n",
       "      <td>19.25</td>\n",
       "      <td>11.63</td>\n",
       "      <td>11.58</td>\n",
       "      <td>11.38</td>\n",
       "      <td>12.08</td>\n",
       "      <td>22.08</td>\n",
       "    </tr>\n",
       "  </tbody>\n",
       "</table>\n",
       "<p>6574 rows × 15 columns</p>\n",
       "</div>"
      ],
      "text/plain": [
       "      Year  Month  Day    RPT    VAL    ROS    KIL    SHA    BIR    DUB  \\\n",
       "0     1961      1    1  15.04  14.96  13.17   9.29  13.96   9.87  13.67   \n",
       "1     1961      1    2  14.71  16.88  10.83   6.50  12.62   7.67  11.50   \n",
       "2     1961      1    3  18.50  16.88  12.33  10.13  11.17   6.17  11.25   \n",
       "3     1961      1    4  10.58   6.63  11.75   4.58   4.54   2.88   8.63   \n",
       "4     1961      1    5  13.33  13.25  11.42   6.17  10.71   8.21  11.92   \n",
       "5     1961      1    6  13.21   8.12   9.96   6.67   5.37   4.50  10.67   \n",
       "...    ...    ...  ...    ...    ...    ...    ...    ...    ...    ...   \n",
       "6568  1978     12   26  13.83  11.87  10.34   2.37   6.96   4.29   1.96   \n",
       "6569  1978     12   27  17.58  16.96  17.62   8.08  13.21  11.67  14.46   \n",
       "6570  1978     12   28  13.21   5.46  13.46   5.00   8.12   9.42  14.33   \n",
       "6571  1978     12   29  14.00  10.29  14.42   8.71   9.71  10.54  19.17   \n",
       "6572  1978     12   30  18.50  14.04  21.29   9.13  12.75   9.71  18.08   \n",
       "6573  1978     12   31  20.33  17.41  27.29   9.59  12.08  10.13  19.25   \n",
       "\n",
       "        CLA    MUL    CLO    BEL    MAL  \n",
       "0     10.25  10.83  12.58  18.50  15.04  \n",
       "1     10.04   9.79   9.67  17.54  13.83  \n",
       "2      8.04   8.50   7.67  12.75  12.71  \n",
       "3      1.79   5.83   5.88   5.46  10.88  \n",
       "4      6.54  10.92  10.34  12.92  11.83  \n",
       "5      4.42   7.17   7.50   8.12  13.17  \n",
       "...     ...    ...    ...    ...    ...  \n",
       "6568   3.79   3.04   3.08   4.79  11.96  \n",
       "6569  15.59  14.04  14.00  17.21  40.08  \n",
       "6570  16.25  15.25  18.05  21.79  41.46  \n",
       "6571  12.46  14.50  16.42  18.88  29.58  \n",
       "6572  12.87  12.46  12.12  14.67  28.79  \n",
       "6573  11.63  11.58  11.38  12.08  22.08  \n",
       "\n",
       "[6574 rows x 15 columns]"
      ]
     },
     "execution_count": 2,
     "metadata": {},
     "output_type": "execute_result"
    }
   ],
   "source": [
    "#Read the data into a dataframe\n",
    "\n",
    "df = pd.read_csv('Ireland_wind_data.csv', names=['Year', 'Month', 'Day', 'RPT', 'VAL', 'ROS', \n",
    "                                                 'KIL', 'SHA', 'BIR', 'DUB', 'CLA', 'MUL', 'CLO', 'BEL', 'MAL'],\n",
    "                delim_whitespace=True)\n",
    "#Fix years\n",
    "df['Year'] += 1900\n",
    "\n",
    "#print(df.dtypes)\n",
    "\n",
    "#df.assign(Date=pd.to_datetime(df[['Year', 'Month']].assign(day=1)))\n",
    "\n",
    "#print(pd.to_datetime(df[['Year', 'Month', 'Day']]))\n",
    "df"
   ]
  },
  {
   "cell_type": "code",
   "execution_count": 3,
   "metadata": {},
   "outputs": [
    {
     "data": {
      "text/plain": [
       "<matplotlib.axes._subplots.AxesSubplot at 0x7ff59ca582b0>"
      ]
     },
     "execution_count": 3,
     "metadata": {},
     "output_type": "execute_result"
    },
    {
     "data": {
      "image/png": "[encoded data removed]",
      "text/plain": [
       "<matplotlib.figure.Figure at 0x7ff56bde2908>"
      ]
     },
     "metadata": {},
     "output_type": "display_data"
    }
   ],
   "source": [
    "#Testing if ploting data works\n",
    "\n",
    "\n",
    "df.plot(x=pd.to_datetime(df[['Year', 'Month', 'Day']]), y='KIL', figsize=(15,8) )\n",
    "#df.plot(x=pd.to_datetime(df[['Year', 'Month', 'Day']]), y='MAL', figsize=(15,8) )"
   ]
  },
  {
   "cell_type": "code",
   "execution_count": 4,
   "metadata": {
    "collapsed": true
   },
   "outputs": [],
   "source": [
    "#Square root transformation and changing knots to meters per second\n",
    "#df['RPT'] = np.sqrt(df['RPT'] * 0.514444444)\n",
    "\n",
    "#df_wind_data = df[['RPT', 'VAL', 'ROS', 'KIL', 'SHA', 'BIR', 'DUB', 'CLA', 'MUL', 'CLO', 'BEL', 'MAL']]\n",
    "\n",
    "#Roslare Ros is not used in Tilmann analysis due to being uncorrelated to the rest of the stations\n",
    "\n",
    "df_wind_data = df[['RPT', 'VAL', 'KIL', 'SHA', 'BIR', 'DUB', 'CLA', 'MUL', 'CLO', 'BEL', 'MAL']]\n",
    "\n",
    "for column in df_wind_data:\n",
    "    df[column] = np.sqrt(df[column] * 0.514444444)"
   ]
  },
  {
   "cell_type": "code",
   "execution_count": 5,
   "metadata": {},
   "outputs": [
    {
     "data": {
      "text/plain": [
       "<matplotlib.axes._subplots.AxesSubplot at 0x7ff569cd1048>"
      ]
     },
     "execution_count": 5,
     "metadata": {},
     "output_type": "execute_result"
    },
    {
     "data": {
      "image/png": "[encoded data removed]",
      "text/plain": [
       "<matplotlib.figure.Figure at 0x7ff569c77f28>"
      ]
     },
     "metadata": {},
     "output_type": "display_data"
    }
   ],
   "source": [
    "#Testing if ploting data works\n",
    "\n",
    "df.plot(x=pd.to_datetime(df[['Year', 'Month', 'Day']]), y='KIL', figsize=(15,8))"
   ]
  },
  {
   "cell_type": "code",
   "execution_count": 6,
   "metadata": {},
   "outputs": [
    {
     "name": "stdout",
     "output_type": "stream",
     "text": [
      "2.45457157796\n",
      "1.5552777114\n"
     ]
    }
   ],
   "source": [
    "print(df['RPT'].mean())\n",
    "df['RPT'] = np.sqrt(df['RPT'])\n",
    "print(df['RPT'].mean())"
   ]
  },
  {
   "cell_type": "code",
   "execution_count": 7,
   "metadata": {},
   "outputs": [
    {
     "name": "stdout",
     "output_type": "stream",
     "text": [
      "0.89278162326\n"
     ]
    }
   ],
   "source": [
    "\n",
    "df['RPT'] = np.sqrt(df['RPT'] * 0.514444444)\n",
    "print(df['RPT'].mean())"
   ]
  },
  {
   "cell_type": "code",
   "execution_count": 8,
   "metadata": {},
   "outputs": [
    {
     "name": "stdout",
     "output_type": "stream",
     "text": [
      "[[ 1.00015214  1.00015214]\n",
      " [ 1.00015214  1.00015214]]\n",
      "[[  0.09199897   0.80568746]\n",
      " [  0.80568746  10.8729941 ]]\n",
      "[[ 0.10609214  0.83248481]\n",
      " [ 0.83248481  9.4286369 ]]\n",
      "[[  0.09893675   0.80547232]\n",
      " [  0.80547232  10.11054331]]\n",
      "[[  0.09607232   0.77942628]\n",
      " [  0.77942628  10.4119928 ]]\n",
      "[[  0.09463413   0.71528018]\n",
      " [  0.71528018  10.57022798]]\n",
      "[[  0.09444465   0.72694089]\n",
      " [  0.72694089  10.591434  ]]\n",
      "[[ 0.10276258  0.75904666]\n",
      " [ 0.75904666  9.73412971]]\n",
      "[[  0.09644536   0.71740441]\n",
      " [  0.71740441  10.37172062]]\n",
      "[[  0.09376616   0.60825488]\n",
      " [  0.60825488  10.66807347]]\n",
      "[[  0.08889115   0.59960276]\n",
      " [  0.59960276  11.25313765]]\n"
     ]
    }
   ],
   "source": [
    "#calculating emperical covariance\n",
    "\n",
    "std_test1=np.std(df['RPT'])\n",
    "for column in df_wind_data: \n",
    "    std_test2=np.std(df[column])\n",
    "    print(np.cov(df['RPT'],df[column])/(std_test1*std_test2))"
   ]
  },
  {
   "cell_type": "code",
   "execution_count": 9,
   "metadata": {
    "collapsed": true
   },
   "outputs": [],
   "source": [
    "#Changing dataframes\n",
    "df1 = df['RPT']\n",
    "df2 = df1.iloc[1:] # lose the first day\n",
    "df3 = df1[:-1] #remove the last day"
   ]
  },
  {
   "cell_type": "code",
   "execution_count": 10,
   "metadata": {},
   "outputs": [
    {
     "name": "stdout",
     "output_type": "stream",
     "text": [
      "0       0.926281\n",
      "1       0.923715\n",
      "2       0.950568\n",
      "3       0.886436\n",
      "4       0.912411\n",
      "5       0.911380\n",
      "          ...   \n",
      "6568    0.916620\n",
      "6569    0.944526\n",
      "6570    0.911380\n",
      "6571    0.918021\n",
      "6572    0.950568\n",
      "6573    0.961842\n",
      "Name: RPT, Length: 6574, dtype: float64\n",
      "1       0.923715\n",
      "2       0.950568\n",
      "3       0.886436\n",
      "4       0.912411\n",
      "5       0.911380\n",
      "6       0.913857\n",
      "          ...   \n",
      "6568    0.916620\n",
      "6569    0.944526\n",
      "6570    0.911380\n",
      "6571    0.918021\n",
      "6572    0.950568\n",
      "6573    0.961842\n",
      "Name: RPT, Length: 6573, dtype: float64\n",
      "0       0.926281\n",
      "1       0.923715\n",
      "2       0.950568\n",
      "3       0.886436\n",
      "4       0.912411\n",
      "5       0.911380\n",
      "          ...   \n",
      "6567    0.844945\n",
      "6568    0.916620\n",
      "6569    0.944526\n",
      "6570    0.911380\n",
      "6571    0.918021\n",
      "6572    0.950568\n",
      "Name: RPT, Length: 6573, dtype: float64\n"
     ]
    }
   ],
   "source": [
    "print(df1)\n",
    "\n",
    "print(df2)\n",
    "\n",
    "print(df3)"
   ]
  },
  {
   "cell_type": "code",
   "execution_count": 11,
   "metadata": {},
   "outputs": [
    {
     "name": "stdout",
     "output_type": "stream",
     "text": [
      "              Station            Code       Latitude  Longitude  \\\n",
      "Roche's Point     RPT         51d48'N         8d15'W       6.36   \n",
      "Valentia          VAL         51d56'N        10d15'W       5.48   \n",
      "Roslare           ROS  52d16'56.791\"N  6d21'25.056\"W       6.00   \n",
      "Kilkenny          KIL         52d40'N         7d16'W       3.25   \n",
      "Shannon           SHA         52d42'N         8d55'W       5.38   \n",
      "Birr              BIR         53d05'N         7d53'W       3.65   \n",
      "Dublin            DUB         53d26'N         6d15'W       5.05   \n",
      "Claremorris       CLA         53d43'N         8d59'W       4.32   \n",
      "Mullingar         MUL         53d32'N         7d22'W       4.38   \n",
      "Clones            CLO         54d11'N         7d14'W       4.48   \n",
      "Belmullet         BEL         54d14'N        10d00'W       6.75   \n",
      "Malin Head        MAL         55d22'N         7d20'W       8.03   \n",
      "\n",
      "                       MeanWind  \n",
      "Roche's Point    N 51.48 W 8.15  \n",
      "Valentia                N 51.56  \n",
      "Roslare            N52.16 W6.21  \n",
      "Kilkenny         N 52.40 W 7.16  \n",
      "Shannon          N 52.42 W 8.55  \n",
      "Birr             N 53.05 W 7.53  \n",
      "Dublin             N53.26 W6.15  \n",
      "Claremorris      N 53.43 W 8.59  \n",
      "Mullingar       N 53.32 W 7.22   \n",
      "Clones           N 54.11 W 7.14  \n",
      "Belmullet               N 54.14  \n",
      "Malin Head       N 55.22 W 7.20  \n"
     ]
    }
   ],
   "source": [
    "#Read distances\n",
    "df_local = pd.read_csv('Ireland_wind_location.csv', names=[\"Station\",\"Code\",\"Latitude\",\"Longitude\",\"MeanWind\"])\n",
    "print(df_local)"
   ]
  },
  {
   "cell_type": "code",
   "execution_count": 12,
   "metadata": {},
   "outputs": [
    {
     "name": "stdout",
     "output_type": "stream",
     "text": [
      "       'RPT'   'VAL'   'KIL'   'SHA'   'BIR'   'DUB'   'CLA'   'MUL'   'CLO'  \\\n",
      "'RPT'      0     129     123     108     180     240     219     214     300   \n",
      "'VAL'    129       0     216     138     236     323     229     272     343   \n",
      "'KIL'    123     216       0      95      77     117     150     102     190   \n",
      "'SHA'    108     138      95       0      98     187     112     134     210   \n",
      "'BIR'    180     236      77      98       0      95      82      37     121   \n",
      "'DUB'    240     323     117     187      95       0     164      72     115   \n",
      "'CLA'    219     229     150     112      82     164       0      92     122   \n",
      "'MUL'    214     272     102     134      37      72      92       0      88   \n",
      "'CLO'    300     343     190     210     121     115     122      88       0   \n",
      "'BEL'    325     287     278     219     212     282     130     214     197   \n",
      "'MAL'    421     448     314     324     243     229     219     211     124   \n",
      "\n",
      "        'BEL'   'MAL'  \n",
      "'RPT'     325     421  \n",
      "'VAL'     287     448  \n",
      "'KIL'     278     314  \n",
      "'SHA'     219     324  \n",
      "'BIR'     212     243  \n",
      "'DUB'     282     229  \n",
      "'CLA'     130     219  \n",
      "'MUL'     214     211  \n",
      "'CLO'     197     124  \n",
      "'BEL'       0     225  \n",
      "'MAL'     225       0  \n"
     ]
    }
   ],
   "source": [
    "df_distances = pd.read_csv('Ireland_wind_distances.csv')\n",
    "print(df_distances)"
   ]
  },
  {
   "cell_type": "code",
   "execution_count": 13,
   "metadata": {},
   "outputs": [
    {
     "data": {
      "text/plain": [
       "(0, 1)"
      ]
     },
     "execution_count": 13,
     "metadata": {},
     "output_type": "execute_result"
    },
    {
     "data": {
      "image/png": "[encoded data removed]",
      "text/plain": [
       "<matplotlib.figure.Figure at 0x7ff569a47a58>"
      ]
     },
     "metadata": {},
     "output_type": "display_data"
    }
   ],
   "source": [
    "# calculating the covariance for zerO lag\n",
    "i = 0\n",
    "\n",
    "y0 = [None] * 66\n",
    "x0 = [None] * 66\n",
    "k=0\n",
    "for first_column in df_wind_data:\n",
    "    df1 = df[first_column]\n",
    "    std_test1=np.std(df1)\n",
    "    j = 0 \n",
    "    for second_column in df_wind_data:\n",
    "        if j <= i:\n",
    "            df2 = df[second_column]\n",
    "            std_test2=np.std(df2)\n",
    "            y0[k] = (np.cov(df1,df2)/(std_test1*std_test2)).item((0, 1))\n",
    "            x0[k] = df_distances.iloc[i,j]\n",
    "            j = j + 1\n",
    "            k = k + 1\n",
    "    i = i + 1\n",
    "plt.scatter(x0, y0,  color='black')\n",
    "plt.ylim(0, 1)\n"
   ]
  },
  {
   "cell_type": "code",
   "execution_count": 14,
   "metadata": {},
   "outputs": [
    {
     "data": {
      "text/plain": [
       "(0, 1)"
      ]
     },
     "execution_count": 14,
     "metadata": {},
     "output_type": "execute_result"
    },
    {
     "data": {
      "image/png": "[encoded data removed]",
      "text/plain": [
       "<matplotlib.figure.Figure at 0x7ff569b2a128>"
      ]
     },
     "metadata": {},
     "output_type": "display_data"
    }
   ],
   "source": [
    "# calculating the covariance for lag 1 day\n",
    "i = 0\n",
    "\n",
    "y1 = [None] * 66\n",
    "x1 = [None] * 66\n",
    "k=0\n",
    "for first_column in df_wind_data:\n",
    "    df1 = df[first_column][:-1]\n",
    "    std_test1=np.std(df1)\n",
    "    j = 0 \n",
    "    for second_column in df_wind_data:\n",
    "        if j <= i:\n",
    "            df2 = df[second_column][1:]\n",
    "            std_test2=np.std(df2)\n",
    "            y1[k] = (np.cov(df1,df2)/(std_test1*std_test2)).item((0, 1))\n",
    "            x1[k] = df_distances.iloc[i,j]\n",
    "            j = j + 1\n",
    "            k = k + 1\n",
    "    i = i + 1\n",
    "plt.scatter(x1, y1,  color='black')\n",
    "plt.ylim(0, 1)\n"
   ]
  },
  {
   "cell_type": "code",
   "execution_count": 15,
   "metadata": {},
   "outputs": [
    {
     "data": {
      "text/plain": [
       "(0, 1)"
      ]
     },
     "execution_count": 15,
     "metadata": {},
     "output_type": "execute_result"
    },
    {
     "data": {
      "image/png": "[encoded data removed]",
      "text/plain": [
       "<matplotlib.figure.Figure at 0x7ff569b2a940>"
      ]
     },
     "metadata": {},
     "output_type": "display_data"
    }
   ],
   "source": [
    "# calculating the covariance for lag 2 day\n",
    "i = 0\n",
    "\n",
    "y2 = [None] * 66\n",
    "x2 = [None] * 66\n",
    "k=0\n",
    "for first_column in df_wind_data:\n",
    "    df1 = df[first_column][:-2]\n",
    "    std_test1=np.std(df1)\n",
    "    j = 0 \n",
    "    for second_column in df_wind_data:\n",
    "        if j <= i:\n",
    "            df2 = df[second_column][2:]\n",
    "            std_test2=np.std(df2)\n",
    "            y2[k] = (np.cov(df1,df2)/(std_test1*std_test2)).item((0, 1))\n",
    "            x2[k] = df_distances.iloc[i,j]\n",
    "            j = j + 1\n",
    "            k = k + 1\n",
    "    i = i + 1\n",
    "plt.scatter(x2, y2,  color='black')\n",
    "plt.ylim(0, 1)\n"
   ]
  },
  {
   "cell_type": "code",
   "execution_count": 16,
   "metadata": {},
   "outputs": [
    {
     "data": {
      "text/plain": [
       "(0, 1)"
      ]
     },
     "execution_count": 16,
     "metadata": {},
     "output_type": "execute_result"
    },
    {
     "data": {
      "image/png": "[encoded data removed]",
      "text/plain": [
       "<matplotlib.figure.Figure at 0x7ff569b2a9e8>"
      ]
     },
     "metadata": {},
     "output_type": "display_data"
    }
   ],
   "source": [
    "# calculating the covariance for lag 3 day\n",
    "i = 0\n",
    "\n",
    "df2 = df1.iloc[1:] # lose the first day\n",
    "df3 = df1[:-1] #remove the last day\n",
    "\n",
    "y3 = [None] * 55\n",
    "x3 = [None] * 55\n",
    "k=0\n",
    "for first_column in df_wind_data:\n",
    "    df1 = df[first_column][:-3]\n",
    "    std_test1=np.std(df1)\n",
    "    j = 0 \n",
    "    for second_column in df_wind_data:\n",
    "        if j < i:\n",
    "    \n",
    "            df2 = df[second_column][3:]\n",
    "            std_test2=np.std(df2)\n",
    "            y3[k] = (np.cov(df1,df2)/(std_test1*std_test2)).item((0, 1))\n",
    "            x3[k] = df_distances.iloc[i,j]\n",
    "            j = j + 1\n",
    "            k = k + 1\n",
    "    i = i + 1\n",
    "plt.scatter(x3, y3,  color='black')\n",
    "plt.ylim(0, 1)\n"
   ]
  },
  {
   "cell_type": "code",
   "execution_count": 17,
   "metadata": {},
   "outputs": [
    {
     "name": "stdout",
     "output_type": "stream",
     "text": [
      "0.812560844954895\n",
      "0.470346097735169\n",
      "0.25349215682594256\n",
      "0.16906524797518074\n"
     ]
    }
   ],
   "source": [
    "print(sum(y0)/len(y0))\n",
    "print(sum(y1)/len(y1))\n",
    "print(sum(y2)/len(y2))\n",
    "print(sum(y3)/len(y3))"
   ]
  },
  {
   "cell_type": "code",
   "execution_count": 18,
   "metadata": {},
   "outputs": [
    {
     "data": {
      "text/plain": [
       "array([ 0.97756926,  0.00120124])"
      ]
     },
     "execution_count": 18,
     "metadata": {},
     "output_type": "execute_result"
    }
   ],
   "source": [
    "#Fitting the curve for only distances\n",
    "def func(x, a, b):\n",
    "    return a * np.exp(-b * x)\n",
    "\n",
    "#Fit for the parameters a, b of the function func:\n",
    "\n",
    "popt, pcov = curve_fit(func, x0, y0, bounds=(0, [1., 1.]))\n",
    "popt"
   ]
  },
  {
   "cell_type": "code",
   "execution_count": 19,
   "metadata": {},
   "outputs": [
    {
     "data": {
      "text/plain": [
       "array([ 1.        ,  0.31092494])"
      ]
     },
     "execution_count": 19,
     "metadata": {},
     "output_type": "execute_result"
    }
   ],
   "source": [
    "#Testing curve fitting for only temporal part\n",
    "def func(x, a, b):\n",
    "    return (a * x**b  +  1)**(-1)\n",
    "\n",
    "#Fit for the parameters a, b of the function func:\n",
    "\n",
    "popt, pcov = curve_fit(func, x3, y3, bounds=(0, [1., 2.]))\n",
    "popt"
   ]
  },
  {
   "cell_type": "code",
   "execution_count": 20,
   "metadata": {},
   "outputs": [
    {
     "data": {
      "text/plain": [
       "array([ 1.13031065,  1.35650561])"
      ]
     },
     "execution_count": 20,
     "metadata": {},
     "output_type": "execute_result"
    }
   ],
   "source": [
    "#Testing curve fitting for only temporal part\n",
    "def func(x, a, b):\n",
    "    return (a * x**b  +  1)**(-1)\n",
    "\n",
    "#Fit for the parameters a, b of the function func:\n",
    "#testy = [0.797,0.526, 0.267, 0.179]\n",
    "\n",
    "testy = [sum(y1)/len(y1), sum(y2)/len(y2),sum(y3)/len(y3)]\n",
    "\n",
    "testx = [1,2,3]\n",
    "\n",
    "popt, pcov = curve_fit(func, testx, testy, bounds=(0, [2., 2.]))\n",
    "popt"
   ]
  },
  {
   "cell_type": "code",
   "execution_count": null,
   "metadata": {
    "collapsed": true
   },
   "outputs": [],
   "source": []
  }
 ],
 "metadata": {
  "kernelspec": {
   "display_name": "Python 3",
   "language": "python",
   "name": "python3"
  },
  "language_info": {
   "codemirror_mode": {
    "name": "ipython",
    "version": 3
   },
   "file_extension": ".py",
   "mimetype": "text/x-python",
   "name": "python",
   "nbconvert_exporter": "python",
   "pygments_lexer": "ipython3",
   "version": "3.5.2"
  }
 },
 "nbformat": 4,
 "nbformat_minor": 2
}
